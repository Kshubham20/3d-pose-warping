{
  "nbformat": 4,
  "nbformat_minor": 0,
  "metadata": {
    "colab": {
      "name": "3D_pose_warping_task1.ipynb",
      "provenance": []
    },
    "kernelspec": {
      "name": "python3",
      "display_name": "Python 3"
    },
    "language_info": {
      "name": "python"
    }
  },
  "cells": [
    {
      "cell_type": "markdown",
      "metadata": {
        "id": "7KL1bBnWWVm7"
      },
      "source": [
        "# Dataset exploration"
      ]
    },
    {
      "cell_type": "markdown",
      "metadata": {
        "id": "feFLBN8Aenvu"
      },
      "source": [
        "\n",
        "*   Explore the **In-shop Clothes Retrieval Benchmark** of the **DeepFashion** dataset\n",
        "http://mmlab.ie.cuhk.edu.hk/projects/DeepFashion/InShopRetrieval.html\n",
        "*   Import the dataset in `Google Colab` instead of downloading the whole dataset locally\n",
        "*   Visualize some samples from the dataset\n",
        "*   Look for variations and correlations in the dataset\n",
        "*   Use the `matplotlib` and `seaborn` library to visualize data\n",
        "\n"
      ]
    },
    {
      "cell_type": "code",
      "metadata": {
        "colab": {
          "base_uri": "https://localhost:8080/"
        },
        "id": "aex6JOHWK5NO",
        "outputId": "b5f4122f-d40a-432d-b427-90e6dbe20048"
      },
      "source": [
        "from google.colab import drive\n",
        "drive.mount('/content/drive')"
      ],
      "execution_count": 7,
      "outputs": [
        {
          "output_type": "stream",
          "text": [
            "Drive already mounted at /content/drive; to attempt to forcibly remount, call drive.mount(\"/content/drive\", force_remount=True).\n"
          ],
          "name": "stdout"
        }
      ]
    },
    {
      "cell_type": "code",
      "metadata": {
        "id": "IyUny-oNVrwy"
      },
      "source": [
        "\n",
        "import numpy as np\n",
        "import pandas as pd\n",
        "import seaborn as sns\n",
        "import matplotlib.pyplot as plt\n",
        "%matplotlib inline\n",
        "import os\n",
        "import tensorflow as tf\n",
        "import PIL\n",
        "import cv2 as cv \n",
        "from google.colab.patches import cv2_imshow \n",
        "from skimage import io\n",
        "from PIL import Image \n",
        "from numpy import asarray"
      ],
      "execution_count": 58,
      "outputs": []
    },
    {
      "cell_type": "code",
      "metadata": {
        "colab": {
          "base_uri": "https://localhost:8080/"
        },
        "id": "MW8cCVL2UqQj",
        "outputId": "2c3d100a-0018-4c6f-c21b-4529d47852ce"
      },
      "source": [
        "%cd /content/drive/MyDrive/image_dataset\n",
        "%ls"
      ],
      "execution_count": 9,
      "outputs": [
        {
          "output_type": "stream",
          "text": [
            "/content/drive/MyDrive/image_dataset\n",
            "img.zip\n"
          ],
          "name": "stdout"
        }
      ]
    },
    {
      "cell_type": "code",
      "metadata": {
        "colab": {
          "base_uri": "https://localhost:8080/"
        },
        "id": "ZNGdDfKvzkRB",
        "outputId": "508638c8-478c-4ed9-e456-148d6aa85ac8"
      },
      "source": [
        "!unzip '/content/drive/MyDrive/image_dataset/img.zip'  -d '/content/drive/MyDrive/image_data'"
      ],
      "execution_count": 44,
      "outputs": [
        {
          "output_type": "stream",
          "text": [
            "Archive:  /content/drive/MyDrive/image_dataset/img.zip\n",
            "replace /content/drive/MyDrive/image_data/img/MEN/Denim/id_00000080/01_1_front.jpg? [y]es, [n]o, [A]ll, [N]one, [r]ename: "
          ],
          "name": "stdout"
        }
      ]
    },
    {
      "cell_type": "code",
      "metadata": {
        "colab": {
          "base_uri": "https://localhost:8080/"
        },
        "id": "V3GVu-kAPBEt",
        "outputId": "15dd15a8-d6a3-4590-8cfc-a2acf88c0a82"
      },
      "source": [
        "%cd /content/drive/MyDrive/image_data/img\n",
        "%ls\n",
        "%cd /content/drive/MyDrive/image_data/img/MEN\n",
        "%ls\n",
        "%cd /content/drive/MyDrive/image_data/img/MEN/Denim\n",
        "%ls\n",
        "%cd /content/drive/MyDrive/image_data/img/MEN/Denim/id_00000080\n",
        "%ls"
      ],
      "execution_count": 10,
      "outputs": [
        {
          "output_type": "stream",
          "text": [
            "/content/drive/MyDrive/image_data/img\n",
            "\u001b[0m\u001b[01;34mMEN\u001b[0m/  \u001b[01;34mWOMEN\u001b[0m/\n",
            "/content/drive/MyDrive/image_data/img/MEN\n",
            "\u001b[0m\u001b[01;34mDenim\u001b[0m/          \u001b[01;34mPants\u001b[0m/         \u001b[01;34mShorts\u001b[0m/   \u001b[01;34mSweaters\u001b[0m/             \u001b[01;34mTees_Tanks\u001b[0m/\n",
            "\u001b[01;34mJackets_Vests\u001b[0m/  \u001b[01;34mShirts_Polos\u001b[0m/  \u001b[01;34mSuiting\u001b[0m/  \u001b[01;34mSweatshirts_Hoodies\u001b[0m/\n",
            "/content/drive/MyDrive/image_data/img/MEN/Denim\n",
            "\u001b[0m\u001b[01;34mid_00000080\u001b[0m/  \u001b[01;34mid_00001223\u001b[0m/  \u001b[01;34mid_00003341\u001b[0m/  \u001b[01;34mid_00005447\u001b[0m/  \u001b[01;34mid_00006465\u001b[0m/\n",
            "\u001b[01;34mid_00000089\u001b[0m/  \u001b[01;34mid_00001231\u001b[0m/  \u001b[01;34mid_00003570\u001b[0m/  \u001b[01;34mid_00005608\u001b[0m/  \u001b[01;34mid_00006841\u001b[0m/\n",
            "\u001b[01;34mid_00000182\u001b[0m/  \u001b[01;34mid_00001952\u001b[0m/  \u001b[01;34mid_00003734\u001b[0m/  \u001b[01;34mid_00005663\u001b[0m/  \u001b[01;34mid_00006959\u001b[0m/\n",
            "\u001b[01;34mid_00000265\u001b[0m/  \u001b[01;34mid_00002243\u001b[0m/  \u001b[01;34mid_00003845\u001b[0m/  \u001b[01;34mid_00005724\u001b[0m/  \u001b[01;34mid_00007216\u001b[0m/\n",
            "\u001b[01;34mid_00000313\u001b[0m/  \u001b[01;34mid_00002476\u001b[0m/  \u001b[01;34mid_00003879\u001b[0m/  \u001b[01;34mid_00005769\u001b[0m/  \u001b[01;34mid_00007297\u001b[0m/\n",
            "\u001b[01;34mid_00000353\u001b[0m/  \u001b[01;34mid_00002559\u001b[0m/  \u001b[01;34mid_00004051\u001b[0m/  \u001b[01;34mid_00005826\u001b[0m/  \u001b[01;34mid_00007300\u001b[0m/\n",
            "\u001b[01;34mid_00000516\u001b[0m/  \u001b[01;34mid_00002578\u001b[0m/  \u001b[01;34mid_00004064\u001b[0m/  \u001b[01;34mid_00005887\u001b[0m/  \u001b[01;34mid_00007524\u001b[0m/\n",
            "\u001b[01;34mid_00000565\u001b[0m/  \u001b[01;34mid_00002707\u001b[0m/  \u001b[01;34mid_00004714\u001b[0m/  \u001b[01;34mid_00006034\u001b[0m/  \u001b[01;34mid_00007570\u001b[0m/\n",
            "\u001b[01;34mid_00000750\u001b[0m/  \u001b[01;34mid_00002735\u001b[0m/  \u001b[01;34mid_00004807\u001b[0m/  \u001b[01;34mid_00006106\u001b[0m/  \u001b[01;34mid_00007607\u001b[0m/\n",
            "\u001b[01;34mid_00000826\u001b[0m/  \u001b[01;34mid_00002760\u001b[0m/  \u001b[01;34mid_00004998\u001b[0m/  \u001b[01;34mid_00006117\u001b[0m/\n",
            "\u001b[01;34mid_00000867\u001b[0m/  \u001b[01;34mid_00003074\u001b[0m/  \u001b[01;34mid_00005208\u001b[0m/  \u001b[01;34mid_00006359\u001b[0m/\n",
            "\u001b[01;34mid_00000938\u001b[0m/  \u001b[01;34mid_00003242\u001b[0m/  \u001b[01;34mid_00005241\u001b[0m/  \u001b[01;34mid_00006407\u001b[0m/\n",
            "\u001b[01;34mid_00001198\u001b[0m/  \u001b[01;34mid_00003252\u001b[0m/  \u001b[01;34mid_00005378\u001b[0m/  \u001b[01;34mid_00006439\u001b[0m/\n",
            "/content/drive/MyDrive/image_data/img/MEN/Denim/id_00000080\n",
            "01_1_front.jpg  01_2_side.jpg  01_3_back.jpg  01_7_additional.jpg\n"
          ],
          "name": "stdout"
        }
      ]
    },
    {
      "cell_type": "code",
      "metadata": {
        "id": "FNBm-IxP5_4J",
        "colab": {
          "base_uri": "https://localhost:8080/"
        },
        "outputId": "1c9ef571-4633-4241-c377-2d208758775f"
      },
      "source": [
        "dataset_path=os.listdir('/content/drive/MyDrive/image_data/img/MEN/Denim')\n",
        "room_types=os.listdir('/content/drive/MyDrive/image_data/img/MEN/Denim')\n",
        "print(room_types)\n",
        "print('types of room found ', len(room_types))\n"
      ],
      "execution_count": 64,
      "outputs": [
        {
          "output_type": "stream",
          "text": [
            "['id_00000080', 'id_00000089', 'id_00000182', 'id_00000265', 'id_00000313', 'id_00000353', 'id_00000516', 'id_00000565', 'id_00000750', 'id_00000826', 'id_00000867', 'id_00000938', 'id_00001198', 'id_00001223', 'id_00001231', 'id_00001952', 'id_00002243', 'id_00002476', 'id_00002559', 'id_00002578', 'id_00002707', 'id_00002735', 'id_00002760', 'id_00003074', 'id_00003242', 'id_00003252', 'id_00003341', 'id_00003570', 'id_00003734', 'id_00003845', 'id_00003879', 'id_00004051', 'id_00004064', 'id_00004714', 'id_00004807', 'id_00004998', 'id_00005208', 'id_00005241', 'id_00005378', 'id_00005447', 'id_00005608', 'id_00005663', 'id_00005724', 'id_00005769', 'id_00005826', 'id_00005887', 'id_00006034', 'id_00006106', 'id_00006117', 'id_00006359', 'id_00006407', 'id_00006439', 'id_00006465', 'id_00006841', 'id_00006959', 'id_00007216', 'id_00007297', 'id_00007300', 'id_00007524', 'id_00007570', 'id_00007607']\n",
            "types of room found  61\n"
          ],
          "name": "stdout"
        }
      ]
    },
    {
      "cell_type": "code",
      "metadata": {
        "colab": {
          "base_uri": "https://localhost:8080/"
        },
        "id": "_sdTVTzJjY3u",
        "outputId": "14a5ce21-e9b6-4df1-d6c9-41c2ebb3253c"
      },
      "source": [
        "rooms=[]\n",
        "for item in room_types:\n",
        "  all_rooms=os.listdir('/content/drive/MyDrive/image_data/img/MEN/Denim'+'/'+item)\n",
        "for room in all_rooms:\n",
        "  rooms.append((item,str('/content/drive/MyDrive/image_data/img/MEN/Denim'+'/'+item)+'/'+room))\n",
        "\n",
        "rooms\n"
      ],
      "execution_count": 63,
      "outputs": [
        {
          "output_type": "execute_result",
          "data": {
            "text/plain": [
              "[('id_00007607',\n",
              "  '/content/drive/MyDrive/image_data/img/MEN/Denim/id_00007607/01_6_flat.jpg'),\n",
              " ('id_00007607',\n",
              "  '/content/drive/MyDrive/image_data/img/MEN/Denim/id_00007607/01_3_back.jpg'),\n",
              " ('id_00007607',\n",
              "  '/content/drive/MyDrive/image_data/img/MEN/Denim/id_00007607/01_1_front.jpg'),\n",
              " ('id_00007607',\n",
              "  '/content/drive/MyDrive/image_data/img/MEN/Denim/id_00007607/01_7_additional.jpg'),\n",
              " ('id_00007607',\n",
              "  '/content/drive/MyDrive/image_data/img/MEN/Denim/id_00007607/01_2_side.jpg')]"
            ]
          },
          "metadata": {
            "tags": []
          },
          "execution_count": 63
        }
      ]
    },
    {
      "cell_type": "code",
      "metadata": {
        "colab": {
          "base_uri": "https://localhost:8080/"
        },
        "id": "n27DXJrDsVmH",
        "outputId": "52f7f0b0-4205-4952-e5b6-56f9747d42a2"
      },
      "source": [
        "rooms_df=pd.DataFrame(data=rooms, columns=['room_type','image'])\n",
        "print(rooms_df.head())"
      ],
      "execution_count": 14,
      "outputs": [
        {
          "output_type": "stream",
          "text": [
            "     room_type                                              image\n",
            "0  id_00007607  /content/drive/MyDrive/image_data/img/MEN/Deni...\n",
            "1  id_00007607  /content/drive/MyDrive/image_data/img/MEN/Deni...\n",
            "2  id_00007607  /content/drive/MyDrive/image_data/img/MEN/Deni...\n",
            "3  id_00007607  /content/drive/MyDrive/image_data/img/MEN/Deni...\n",
            "4  id_00007607  /content/drive/MyDrive/image_data/img/MEN/Deni...\n"
          ],
          "name": "stdout"
        }
      ]
    },
    {
      "cell_type": "code",
      "metadata": {
        "colab": {
          "base_uri": "https://localhost:8080/"
        },
        "id": "BnalK2jTK83o",
        "outputId": "62001ef4-2f35-4120-ad62-f9b38a87c150"
      },
      "source": [
        "rooms_df.info()"
      ],
      "execution_count": 15,
      "outputs": [
        {
          "output_type": "stream",
          "text": [
            "<class 'pandas.core.frame.DataFrame'>\n",
            "RangeIndex: 5 entries, 0 to 4\n",
            "Data columns (total 2 columns):\n",
            " #   Column     Non-Null Count  Dtype \n",
            "---  ------     --------------  ----- \n",
            " 0   room_type  5 non-null      object\n",
            " 1   image      5 non-null      object\n",
            "dtypes: object(2)\n",
            "memory usage: 208.0+ bytes\n"
          ],
          "name": "stdout"
        }
      ]
    },
    {
      "cell_type": "code",
      "metadata": {
        "colab": {
          "base_uri": "https://localhost:8080/",
          "height": 173
        },
        "id": "145P602pLWfO",
        "outputId": "7be4e3c3-6573-4333-cec6-17519eae87e2"
      },
      "source": [
        "rooms_df.describe()"
      ],
      "execution_count": 65,
      "outputs": [
        {
          "output_type": "execute_result",
          "data": {
            "text/html": [
              "<div>\n",
              "<style scoped>\n",
              "    .dataframe tbody tr th:only-of-type {\n",
              "        vertical-align: middle;\n",
              "    }\n",
              "\n",
              "    .dataframe tbody tr th {\n",
              "        vertical-align: top;\n",
              "    }\n",
              "\n",
              "    .dataframe thead th {\n",
              "        text-align: right;\n",
              "    }\n",
              "</style>\n",
              "<table border=\"1\" class=\"dataframe\">\n",
              "  <thead>\n",
              "    <tr style=\"text-align: right;\">\n",
              "      <th></th>\n",
              "      <th>room_type</th>\n",
              "      <th>image</th>\n",
              "    </tr>\n",
              "  </thead>\n",
              "  <tbody>\n",
              "    <tr>\n",
              "      <th>count</th>\n",
              "      <td>5</td>\n",
              "      <td>5</td>\n",
              "    </tr>\n",
              "    <tr>\n",
              "      <th>unique</th>\n",
              "      <td>1</td>\n",
              "      <td>5</td>\n",
              "    </tr>\n",
              "    <tr>\n",
              "      <th>top</th>\n",
              "      <td>id_00007607</td>\n",
              "      <td>/content/drive/MyDrive/image_data/img/MEN/Deni...</td>\n",
              "    </tr>\n",
              "    <tr>\n",
              "      <th>freq</th>\n",
              "      <td>5</td>\n",
              "      <td>1</td>\n",
              "    </tr>\n",
              "  </tbody>\n",
              "</table>\n",
              "</div>"
            ],
            "text/plain": [
              "          room_type                                              image\n",
              "count             5                                                  5\n",
              "unique            1                                                  5\n",
              "top     id_00007607  /content/drive/MyDrive/image_data/img/MEN/Deni...\n",
              "freq              5                                                  1"
            ]
          },
          "metadata": {
            "tags": []
          },
          "execution_count": 65
        }
      ]
    },
    {
      "cell_type": "code",
      "metadata": {
        "colab": {
          "base_uri": "https://localhost:8080/"
        },
        "id": "cw0myyB4tCap",
        "outputId": "10452fd6-490f-40c5-c36d-482c836ff544"
      },
      "source": [
        "print('total no of rooms in dataset: ',len(rooms_df))\n",
        "room_count=rooms_df['room_type'].value_counts()\n",
        "print('rooms in each category:')\n",
        "print(room_count)"
      ],
      "execution_count": 66,
      "outputs": [
        {
          "output_type": "stream",
          "text": [
            "total no of rooms in dataset:  5\n",
            "rooms in each category:\n",
            "id_00007607    5\n",
            "Name: room_type, dtype: int64\n"
          ],
          "name": "stdout"
        }
      ]
    },
    {
      "cell_type": "code",
      "metadata": {
        "colab": {
          "base_uri": "https://localhost:8080/"
        },
        "id": "8deGALlmvhGy",
        "outputId": "288b86d6-17d8-4918-bae5-b330d82ae689"
      },
      "source": [
        "first=plt.imread('/content/drive/MyDrive/image_data/img/MEN/Denim/id_00007607/01_6_flat.jpg')\n",
        "dims=np.shape(first)\n",
        "print(first)"
      ],
      "execution_count": 18,
      "outputs": [
        {
          "output_type": "stream",
          "text": [
            "[[[242 242 242]\n",
            "  [242 242 242]\n",
            "  [242 242 242]\n",
            "  ...\n",
            "  [242 242 242]\n",
            "  [242 242 242]\n",
            "  [242 242 242]]\n",
            "\n",
            " [[242 242 242]\n",
            "  [242 242 242]\n",
            "  [242 242 242]\n",
            "  ...\n",
            "  [242 242 242]\n",
            "  [242 242 242]\n",
            "  [242 242 242]]\n",
            "\n",
            " [[242 242 242]\n",
            "  [242 242 242]\n",
            "  [242 242 242]\n",
            "  ...\n",
            "  [242 242 242]\n",
            "  [242 242 242]\n",
            "  [242 242 242]]\n",
            "\n",
            " ...\n",
            "\n",
            " [[242 242 242]\n",
            "  [242 242 242]\n",
            "  [242 242 242]\n",
            "  ...\n",
            "  [242 242 242]\n",
            "  [242 242 242]\n",
            "  [242 242 242]]\n",
            "\n",
            " [[242 242 242]\n",
            "  [242 242 242]\n",
            "  [242 242 242]\n",
            "  ...\n",
            "  [242 242 242]\n",
            "  [242 242 242]\n",
            "  [242 242 242]]\n",
            "\n",
            " [[242 242 242]\n",
            "  [242 242 242]\n",
            "  [242 242 242]\n",
            "  ...\n",
            "  [242 242 242]\n",
            "  [242 242 242]\n",
            "  [242 242 242]]]\n"
          ],
          "name": "stdout"
        }
      ]
    },
    {
      "cell_type": "code",
      "metadata": {
        "colab": {
          "base_uri": "https://localhost:8080/"
        },
        "id": "l_PfU0-ugTQq",
        "outputId": "7870a2a8-aeea-441a-b9a8-f2bc4d4382f6"
      },
      "source": [
        "image = PIL.Image.open('/content/drive/MyDrive/image_data/img/MEN/Denim/id_00007607/01_6_flat.jpg')\n",
        "\n",
        "\n",
        "width, height = image.size\n",
        "\n",
        "print(width, height)"
      ],
      "execution_count": 34,
      "outputs": [
        {
          "output_type": "stream",
          "text": [
            "256 256\n"
          ],
          "name": "stdout"
        }
      ]
    },
    {
      "cell_type": "code",
      "metadata": {
        "colab": {
          "base_uri": "https://localhost:8080/"
        },
        "id": "oLfibp0HiFNX",
        "outputId": "d648828b-c3a6-416b-df1c-3ab7ab7c0742"
      },
      "source": [
        "\n",
        "print(first.dtype)\n",
        "\n",
        "print(first.shape[0])\n",
        "\n",
        "print(first.shape[1])\n",
        "\n",
        "print(first.shape[2])"
      ],
      "execution_count": 37,
      "outputs": [
        {
          "output_type": "stream",
          "text": [
            "uint8\n",
            "256\n",
            "256\n",
            "3\n"
          ],
          "name": "stdout"
        }
      ]
    },
    {
      "cell_type": "code",
      "metadata": {
        "colab": {
          "base_uri": "https://localhost:8080/",
          "height": 769
        },
        "id": "xn3-4crHiZ71",
        "outputId": "1bcdde3a-f246-43bb-8d2a-43fe69c8bf3d"
      },
      "source": [
        "plt.hist(first.ravel(),bins = 256, range = [0,256]) \n",
        "plt.show()\n",
        "color = ('b','g','r')\n",
        "for i,col in enumerate(color):\n",
        "    histr = cv.calcHist([first],[i],None,[256],[0,256])\n",
        "    plt.plot(histr,color = col)\n",
        "    plt.xlim([0,256])\n",
        "plt.show()\n",
        "gray_image = cv.cvtColor(first, cv.COLOR_BGR2GRAY)\n",
        "cv2_imshow(gray_image)"
      ],
      "execution_count": 52,
      "outputs": [
        {
          "output_type": "display_data",
          "data": {
            "image/png": "[encoded data removed]",
            "text/plain": [
              "<Figure size 432x288 with 1 Axes>"
            ]
          },
          "metadata": {
            "tags": [],
            "needs_background": "light"
          }
        },
        {
          "output_type": "display_data",
          "data": {
            "image/png": "[encoded data removed]",
            "text/plain": [
              "<Figure size 432x288 with 1 Axes>"
            ]
          },
          "metadata": {
            "tags": [],
            "needs_background": "light"
          }
        },
        {
          "output_type": "display_data",
          "data": {
            "image/png": "[encoded data removed]",
            "text/plain": [
              "<PIL.Image.Image image mode=L size=256x256 at 0x7FF81E19FA50>"
            ]
          },
          "metadata": {
            "tags": []
          }
        }
      ]
    },
    {
      "cell_type": "code",
      "metadata": {
        "colab": {
          "base_uri": "https://localhost:8080/"
        },
        "id": "Tukff72yM-4B",
        "outputId": "c9124770-cff4-4194-8577-cba75b52795c"
      },
      "source": [
        "np.min(first) ,np.max(first)"
      ],
      "execution_count": 19,
      "outputs": [
        {
          "output_type": "execute_result",
          "data": {
            "text/plain": [
              "(0, 255)"
            ]
          },
          "metadata": {
            "tags": []
          },
          "execution_count": 19
        }
      ]
    },
    {
      "cell_type": "code",
      "metadata": {
        "colab": {
          "base_uri": "https://localhost:8080/",
          "height": 286
        },
        "id": "AIjUxeviNUXc",
        "outputId": "08d438f1-cbba-4117-e117-970a0808814e"
      },
      "source": [
        "plt.imshow(first)"
      ],
      "execution_count": 20,
      "outputs": [
        {
          "output_type": "execute_result",
          "data": {
            "text/plain": [
              "<matplotlib.image.AxesImage at 0x7ff82b4ed150>"
            ]
          },
          "metadata": {
            "tags": []
          },
          "execution_count": 20
        },
        {
          "output_type": "display_data",
          "data": {
            "image/png": "[encoded data removed]",
            "text/plain": [
              "<Figure size 432x288 with 1 Axes>"
            ]
          },
          "metadata": {
            "tags": [],
            "needs_background": "light"
          }
        }
      ]
    },
    {
      "cell_type": "markdown",
      "metadata": {
        "id": "chqpn6Uke6dX"
      },
      "source": [
        "Whole Dataset is organised into two  categories :MEN and WOMEN which further divided into various subclass.\n",
        "images are of jpg formate.\n",
        "Size of the image is 256*256*3.\n",
        "matrix is of dtype unit8.\n"
      ]
    },
    {
      "cell_type": "markdown",
      "metadata": {
        "id": "hIXrB7U8uHvt"
      },
      "source": [
        "# New section"
      ]
    },
    {
      "cell_type": "markdown",
      "metadata": {
        "id": "d7TM8utGWfyl"
      },
      "source": [
        "# ResNET Architecture"
      ]
    },
    {
      "cell_type": "markdown",
      "metadata": {
        "id": "Ws2Z2KTVUb16"
      },
      "source": [
        "\n",
        "\n",
        "*   Read about **ResNET** architecture and advantage of residual blocks\n",
        "*   Build a simple 6-layer ConvNET and train it on **CIFAR-10** dataset\n",
        "*   Introduce residual blocks in the above model and compare the results \n",
        "*   Use the `tensorflow` library to import ResNET model with imgaenet weights\n",
        "*   Change some parameters and document the results\n",
        "*   Visualize the output of some layers and add/delete layers to see the effect of individual layers on the model accuracy\n",
        "\n"
      ]
    },
    {
      "cell_type": "code",
      "metadata": {
        "id": "RKInCk4WTo2r"
      },
      "source": [
        "# Add code cells in this section\n",
        "from tensorflow.keras.datasets import cifar10\n",
        "from tensorflow.keras.models import Sequential\n",
        "from tensorflow.keras.layers import Dense,Conv2D,Flatten,MaxPooling2D,Input,ReLU,BatchNormalization,GlobalAveragePooling2D,Add,Dropout\n",
        "from tensorflow.keras.losses import sparse_categorical_crossentropy\n",
        "from tensorflow.keras.optimizers import Adam\n",
        "import matplotlib.pyplot as plt\n",
        "import tensorflow as tf\n",
        "import numpy as np\n",
        "import math\n",
        "from keras.models import Model\n",
        "from keras import losses\n"
      ],
      "execution_count": 1,
      "outputs": []
    },
    {
      "cell_type": "code",
      "metadata": {
        "id": "GPR5n0cK8dw8"
      },
      "source": [
        "batch_size=50\n",
        "img_width, img_height,img_num_channels=32,32,3\n",
        "loss_function=sparse_categorical_crossentropy\n",
        "no_classes=10\n",
        "no_epochs=5\n",
        "optimizer=Adam()\n",
        "validation_split=0.2\n",
        "verbosity=1"
      ],
      "execution_count": 2,
      "outputs": []
    },
    {
      "cell_type": "code",
      "metadata": {
        "id": "STXhaeAx_nPY",
        "colab": {
          "base_uri": "https://localhost:8080/"
        },
        "outputId": "2e32f72d-97e1-48de-9338-7fae8eb227c2"
      },
      "source": [
        "(input_train,target_train),(input_test,target_test)=cifar10.load_data()\n",
        "input_shape=(img_width,img_height, img_num_channels)\n",
        "input_test=input_test.astype('float32')\n",
        "input_train=input_train.astype('float32')\n",
        "input_test=input_test/255\n",
        "input_train=input_train/255"
      ],
      "execution_count": 3,
      "outputs": [
        {
          "output_type": "stream",
          "text": [
            "Downloading data from https://www.cs.toronto.edu/~kriz/cifar-10-python.tar.gz\n",
            "170500096/170498071 [==============================] - 12s 0us/step\n"
          ],
          "name": "stdout"
        }
      ]
    },
    {
      "cell_type": "code",
      "metadata": {
        "id": "-x2O6hZYADbp"
      },
      "source": [
        "model=Sequential()\n",
        "model.add(Conv2D(32,kernel_size=(3,3), activation='relu' , input_shape=input_shape))\n",
        "model.add(MaxPooling2D(pool_size=(2, 2)))\n",
        "model.add(Conv2D(64,kernel_size=(3,3), activation='relu'))\n",
        "model.add(MaxPooling2D(pool_size=(2, 2)))\n",
        "model.add(Conv2D(128,kernel_size=(3,3), activation='relu'))\n",
        "model.add(MaxPooling2D(pool_size=(2, 2)))\n",
        "model.add(Flatten())\n",
        "model.add(Dense(256, activation='relu'))\n",
        "model.add(Dense(128, activation='relu'))\n",
        "model.add(Dense(128, activation='relu'))\n",
        "model.add(Dense(128, activation='relu'))\n",
        "model.add(Dense(128, activation='relu'))\n",
        "model.add(Dense(128, activation='relu'))\n",
        "model.add(Dense(no_classes, activation='softmax'))\n"
      ],
      "execution_count": 4,
      "outputs": []
    },
    {
      "cell_type": "code",
      "metadata": {
        "colab": {
          "base_uri": "https://localhost:8080/"
        },
        "id": "_KgnOa7dXJmn",
        "outputId": "17719bf2-5106-419a-a1f9-7a3c4811c4ae"
      },
      "source": [
        "model.summary()"
      ],
      "execution_count": 5,
      "outputs": [
        {
          "output_type": "stream",
          "text": [
            "Model: \"sequential\"\n",
            "_________________________________________________________________\n",
            "Layer (type)                 Output Shape              Param #   \n",
            "=================================================================\n",
            "conv2d (Conv2D)              (None, 30, 30, 32)        896       \n",
            "_________________________________________________________________\n",
            "max_pooling2d (MaxPooling2D) (None, 15, 15, 32)        0         \n",
            "_________________________________________________________________\n",
            "conv2d_1 (Conv2D)            (None, 13, 13, 64)        18496     \n",
            "_________________________________________________________________\n",
            "max_pooling2d_1 (MaxPooling2 (None, 6, 6, 64)          0         \n",
            "_________________________________________________________________\n",
            "conv2d_2 (Conv2D)            (None, 4, 4, 128)         73856     \n",
            "_________________________________________________________________\n",
            "max_pooling2d_2 (MaxPooling2 (None, 2, 2, 128)         0         \n",
            "_________________________________________________________________\n",
            "flatten (Flatten)            (None, 512)               0         \n",
            "_________________________________________________________________\n",
            "dense (Dense)                (None, 256)               131328    \n",
            "_________________________________________________________________\n",
            "dense_1 (Dense)              (None, 128)               32896     \n",
            "_________________________________________________________________\n",
            "dense_2 (Dense)              (None, 128)               16512     \n",
            "_________________________________________________________________\n",
            "dense_3 (Dense)              (None, 128)               16512     \n",
            "_________________________________________________________________\n",
            "dense_4 (Dense)              (None, 128)               16512     \n",
            "_________________________________________________________________\n",
            "dense_5 (Dense)              (None, 128)               16512     \n",
            "_________________________________________________________________\n",
            "dense_6 (Dense)              (None, 10)                1290      \n",
            "=================================================================\n",
            "Total params: 324,810\n",
            "Trainable params: 324,810\n",
            "Non-trainable params: 0\n",
            "_________________________________________________________________\n"
          ],
          "name": "stdout"
        }
      ]
    },
    {
      "cell_type": "code",
      "metadata": {
        "colab": {
          "base_uri": "https://localhost:8080/"
        },
        "id": "8v1GaHqfF5jG",
        "outputId": "49492f1b-782e-44ca-c103-3591e456093d"
      },
      "source": [
        "model.compile(loss=loss_function,optimizer=optimizer,metrics=['accuracy'])\n",
        "history=model.fit(input_train, target_train,batch_size=batch_size,epochs=no_epochs,verbose=verbosity,validation_split=validation_split)\n"
      ],
      "execution_count": 55,
      "outputs": [
        {
          "output_type": "stream",
          "text": [
            "Epoch 1/5\n",
            "800/800 [==============================] - 60s 74ms/step - loss: 1.7558 - accuracy: 0.3292 - val_loss: 1.4145 - val_accuracy: 0.4743\n",
            "Epoch 2/5\n",
            "800/800 [==============================] - 59s 73ms/step - loss: 1.3267 - accuracy: 0.5155 - val_loss: 1.2174 - val_accuracy: 0.5650\n",
            "Epoch 3/5\n",
            "800/800 [==============================] - 60s 75ms/step - loss: 1.1536 - accuracy: 0.5875 - val_loss: 1.2000 - val_accuracy: 0.5846\n",
            "Epoch 4/5\n",
            "800/800 [==============================] - 59s 74ms/step - loss: 1.0190 - accuracy: 0.6391 - val_loss: 1.0432 - val_accuracy: 0.6327\n",
            "Epoch 5/5\n",
            "800/800 [==============================] - 59s 74ms/step - loss: 0.9178 - accuracy: 0.6787 - val_loss: 1.0143 - val_accuracy: 0.6501\n"
          ],
          "name": "stdout"
        }
      ]
    },
    {
      "cell_type": "code",
      "metadata": {
        "colab": {
          "base_uri": "https://localhost:8080/",
          "height": 312
        },
        "id": "pk-kaFfzHFJA",
        "outputId": "f68f6ab2-e5e8-412f-c36a-46a84ff1b8d9"
      },
      "source": [
        "score=model.evaluate(input_test,target_test,verbose=0)\n",
        "print(f'Test loss:{score[0]}/Test accuracy:{score[1]}')\n",
        "plt.plot(history.history['val_loss'])\n",
        "plt.title('Validation loss history')\n",
        "plt.ylabel('Loss value(%)')\n",
        "plt.xlabel('No epochs')\n",
        "plt.show()"
      ],
      "execution_count": null,
      "outputs": [
        {
          "output_type": "stream",
          "text": [
            "Test loss:1.256818175315857/Test accuracy:0.5526999831199646\n"
          ],
          "name": "stdout"
        },
        {
          "output_type": "display_data",
          "data": {
            "image/png": "[encoded data removed]",
            "text/plain": [
              "<Figure size 432x288 with 1 Axes>"
            ]
          },
          "metadata": {
            "tags": [],
            "needs_background": "light"
          }
        }
      ]
    },
    {
      "cell_type": "code",
      "metadata": {
        "colab": {
          "base_uri": "https://localhost:8080/",
          "height": 295
        },
        "id": "ZB2XwIuNIvYA",
        "outputId": "0ed2048e-b931-43f4-c000-85dfc5621297"
      },
      "source": [
        "plt.plot(history.history['val_accuracy'])\n",
        "plt.title('Validation accuracy history')\n",
        "plt.ylabel('Accuracy value(%)')\n",
        "plt.xlabel('No epochs')\n",
        "plt.show()"
      ],
      "execution_count": null,
      "outputs": [
        {
          "output_type": "display_data",
          "data": {
            "image/png": "[encoded data removed]",
            "text/plain": [
              "<Figure size 432x288 with 1 Axes>"
            ]
          },
          "metadata": {
            "tags": [],
            "needs_background": "light"
          }
        }
      ]
    },
    {
      "cell_type": "code",
      "metadata": {
        "id": "qyfUBK9HStvA"
      },
      "source": [
        "model_2=Sequential()\n",
        "model_2.add(Conv2D(32,kernel_size=(3,3), activation='relu' , input_shape=input_shape ,name='l1'))\n",
        "model_2.add(BatchNormalization(name='b1'))\n",
        "\n",
        "model_2.add(Conv2D(32,kernel_size=(3,3), activation='relu' , input_shape=input_shape ,name='l2'))\n",
        "model_2.add(BatchNormalization(name='b2'))\n",
        "model_2.add(MaxPooling2D(pool_size=(2, 2)))\n",
        "model_2.add(Conv2D(64,kernel_size=(3,3), activation='relu' , name='l3'))\n",
        "model_2.add(BatchNormalization(name='b3'))\n",
        "\n",
        "model_2.add(Conv2D(64,kernel_size=(3,3), activation='relu' , name='l4'))\n",
        "model_2.add(BatchNormalization(name='b4'))\n",
        "model_2.add(MaxPooling2D(pool_size=(2, 2)))\n",
        "model_2.add(Conv2D(128,kernel_size=(3,3), activation='relu' ,name='l5'))\n",
        "model_2.add(BatchNormalization(name='b5'))\n",
        "model_2.add(Conv2D(128,kernel_size=(3,3), activation='relu' ,name='l6'))\n",
        "model_2.add(BatchNormalization(name='b6'))\n",
        "#model_2.add(MaxPooling2D(pool_size=(2, 2)))\n",
        "model_2.add(Flatten())\n",
        "model_2.add(Dense(256, activation='relu'))\n",
        "model_2.add(Dropout(0.2))\n",
        "model_2.add(Dense(128, activation='relu'))\n",
        "model_2.add(Dropout(0.2))\n",
        "model_2.add(Dense(128, activation='relu'))\n",
        "model_2.add(Dropout(0.2))\n",
        "model_2.add(Dense(128, activation='relu'))\n",
        "model_2.add(Dropout(0.2))\n",
        "model_2.add(Dense(128, activation='relu'))\n",
        "model_2.add(Dropout(0.2))\n",
        "model_2.add(Dense(128, activation='relu'))\n",
        "model_2.add(Dense(no_classes, activation='softmax'))\n"
      ],
      "execution_count": 14,
      "outputs": []
    },
    {
      "cell_type": "code",
      "metadata": {
        "colab": {
          "base_uri": "https://localhost:8080/"
        },
        "id": "7ssGn4TEX8H4",
        "outputId": "79b1fa7f-c21e-4727-d483-1900d8b797d8"
      },
      "source": [
        "model_2.summary()"
      ],
      "execution_count": 15,
      "outputs": [
        {
          "output_type": "stream",
          "text": [
            "Model: \"sequential_6\"\n",
            "_________________________________________________________________\n",
            "Layer (type)                 Output Shape              Param #   \n",
            "=================================================================\n",
            "l1 (Conv2D)                  (None, 30, 30, 32)        896       \n",
            "_________________________________________________________________\n",
            "b1 (BatchNormalization)      (None, 30, 30, 32)        128       \n",
            "_________________________________________________________________\n",
            "l2 (Conv2D)                  (None, 28, 28, 32)        9248      \n",
            "_________________________________________________________________\n",
            "b2 (BatchNormalization)      (None, 28, 28, 32)        128       \n",
            "_________________________________________________________________\n",
            "max_pooling2d_12 (MaxPooling (None, 14, 14, 32)        0         \n",
            "_________________________________________________________________\n",
            "l3 (Conv2D)                  (None, 12, 12, 64)        18496     \n",
            "_________________________________________________________________\n",
            "b3 (BatchNormalization)      (None, 12, 12, 64)        256       \n",
            "_________________________________________________________________\n",
            "l4 (Conv2D)                  (None, 10, 10, 64)        36928     \n",
            "_________________________________________________________________\n",
            "b4 (BatchNormalization)      (None, 10, 10, 64)        256       \n",
            "_________________________________________________________________\n",
            "max_pooling2d_13 (MaxPooling (None, 5, 5, 64)          0         \n",
            "_________________________________________________________________\n",
            "l5 (Conv2D)                  (None, 3, 3, 128)         73856     \n",
            "_________________________________________________________________\n",
            "b5 (BatchNormalization)      (None, 3, 3, 128)         512       \n",
            "_________________________________________________________________\n",
            "l6 (Conv2D)                  (None, 1, 1, 128)         147584    \n",
            "_________________________________________________________________\n",
            "b6 (BatchNormalization)      (None, 1, 1, 128)         512       \n",
            "_________________________________________________________________\n",
            "flatten_5 (Flatten)          (None, 128)               0         \n",
            "_________________________________________________________________\n",
            "dense_35 (Dense)             (None, 256)               33024     \n",
            "_________________________________________________________________\n",
            "dropout_3 (Dropout)          (None, 256)               0         \n",
            "_________________________________________________________________\n",
            "dense_36 (Dense)             (None, 128)               32896     \n",
            "_________________________________________________________________\n",
            "dropout_4 (Dropout)          (None, 128)               0         \n",
            "_________________________________________________________________\n",
            "dense_37 (Dense)             (None, 128)               16512     \n",
            "_________________________________________________________________\n",
            "dropout_5 (Dropout)          (None, 128)               0         \n",
            "_________________________________________________________________\n",
            "dense_38 (Dense)             (None, 128)               16512     \n",
            "_________________________________________________________________\n",
            "dropout_6 (Dropout)          (None, 128)               0         \n",
            "_________________________________________________________________\n",
            "dense_39 (Dense)             (None, 128)               16512     \n",
            "_________________________________________________________________\n",
            "dropout_7 (Dropout)          (None, 128)               0         \n",
            "_________________________________________________________________\n",
            "dense_40 (Dense)             (None, 128)               16512     \n",
            "_________________________________________________________________\n",
            "dense_41 (Dense)             (None, 10)                1290      \n",
            "=================================================================\n",
            "Total params: 422,058\n",
            "Trainable params: 421,162\n",
            "Non-trainable params: 896\n",
            "_________________________________________________________________\n"
          ],
          "name": "stdout"
        }
      ]
    },
    {
      "cell_type": "code",
      "metadata": {
        "colab": {
          "base_uri": "https://localhost:8080/"
        },
        "id": "StLTRg3jS3Ee",
        "outputId": "a9c28561-abcc-4b58-a905-a1ebbe95d944"
      },
      "source": [
        "model_2.compile(loss=loss_function,optimizer=optimizer,metrics=['accuracy'])\n",
        "history=model_2.fit(input_train, target_train,batch_size=batch_size,epochs=no_epochs,verbose=verbosity,validation_split=validation_split)\n"
      ],
      "execution_count": 16,
      "outputs": [
        {
          "output_type": "stream",
          "text": [
            "Epoch 1/5\n",
            "800/800 [==============================] - 176s 218ms/step - loss: 1.6130 - accuracy: 0.4047 - val_loss: 1.3520 - val_accuracy: 0.5269\n",
            "Epoch 2/5\n",
            "800/800 [==============================] - 175s 218ms/step - loss: 1.2005 - accuracy: 0.5914 - val_loss: 1.1877 - val_accuracy: 0.5886\n",
            "Epoch 3/5\n",
            "800/800 [==============================] - 181s 226ms/step - loss: 1.0087 - accuracy: 0.6606 - val_loss: 1.0157 - val_accuracy: 0.6502\n",
            "Epoch 4/5\n",
            "800/800 [==============================] - 183s 228ms/step - loss: 0.8905 - accuracy: 0.7053 - val_loss: 0.9369 - val_accuracy: 0.6843\n",
            "Epoch 5/5\n",
            "800/800 [==============================] - 182s 228ms/step - loss: 0.8036 - accuracy: 0.7388 - val_loss: 1.1203 - val_accuracy: 0.6394\n"
          ],
          "name": "stdout"
        }
      ]
    },
    {
      "cell_type": "code",
      "metadata": {
        "colab": {
          "base_uri": "https://localhost:8080/",
          "height": 312
        },
        "id": "bjdBdoaCdQMq",
        "outputId": "a2d54554-d3f9-4859-950e-278bb31e4880"
      },
      "source": [
        "score=model_2.evaluate(input_test,target_test,verbose=0)\n",
        "print(f'Test loss:{score[0]}/Test accuracy:{score[1]}')\n",
        "plt.plot(history.history['val_loss'])\n",
        "plt.title('Validation loss history')\n",
        "plt.ylabel('Loss value(%)')\n",
        "plt.xlabel('No epochs')\n",
        "plt.show()"
      ],
      "execution_count": 18,
      "outputs": [
        {
          "output_type": "stream",
          "text": [
            "Test loss:1.1463077068328857/Test accuracy:0.6416000127792358\n"
          ],
          "name": "stdout"
        },
        {
          "output_type": "display_data",
          "data": {
            "image/png": "[encoded data removed]",
            "text/plain": [
              "<Figure size 432x288 with 1 Axes>"
            ]
          },
          "metadata": {
            "tags": [],
            "needs_background": "light"
          }
        }
      ]
    },
    {
      "cell_type": "code",
      "metadata": {
        "colab": {
          "base_uri": "https://localhost:8080/",
          "height": 295
        },
        "id": "PkWTiw3idRep",
        "outputId": "7b3f618a-6bb6-4853-e570-c808a9e1119a"
      },
      "source": [
        "plt.plot(history.history['val_accuracy'])\n",
        "plt.title('Validation accuracy history')\n",
        "plt.ylabel('Accuracy value(%)')\n",
        "plt.xlabel('No epochs')\n",
        "plt.show()"
      ],
      "execution_count": 19,
      "outputs": [
        {
          "output_type": "display_data",
          "data": {
            "image/png": "[encoded data removed]",
            "text/plain": [
              "<Figure size 432x288 with 1 Axes>"
            ]
          },
          "metadata": {
            "tags": [],
            "needs_background": "light"
          }
        }
      ]
    },
    {
      "cell_type": "markdown",
      "metadata": {
        "id": "Wb1CM8YuOL_r"
      },
      "source": [
        "**Using residual block**"
      ]
    },
    {
      "cell_type": "code",
      "metadata": {
        "id": "vKyLk3CKSRg_"
      },
      "source": [
        "  (x_train, y_train),(x_test , y_test)=cifar10.load_data()"
      ],
      "execution_count": 20,
      "outputs": []
    },
    {
      "cell_type": "code",
      "metadata": {
        "id": "JGgNR1UtRdYW"
      },
      "source": [
        "x_val=x_train[-5000:]\n",
        "y_val=y_train[-5000:]\n",
        "x_train=x_train[:-5000]\n",
        "y_train=y_train[:-5000]\n",
        "\n",
        "\n",
        "x_train=x_train/255.0\n",
        "x_val=x_val/255.0\n",
        "x_test=x_test/255.0\n",
        "\n"
      ],
      "execution_count": 21,
      "outputs": []
    },
    {
      "cell_type": "code",
      "metadata": {
        "id": "KlmN7-1aSSTE"
      },
      "source": [
        "x_train=x_train.reshape(x_train.shape[0],x_train.shape[1],x_train.shape[2],3)\n",
        "x_val=x_val.reshape(x_val.shape[0],x_val.shape[1],x_val.shape[2],3)\n",
        "x_test=x_test.reshape(x_test.shape[0],x_test.shape[1],x_test.shape[2],3)"
      ],
      "execution_count": 22,
      "outputs": []
    },
    {
      "cell_type": "code",
      "metadata": {
        "id": "2ZysGVXFZDMI"
      },
      "source": [
        "input_shape=[32,32,3]\n",
        "output_shape=10"
      ],
      "execution_count": 23,
      "outputs": []
    },
    {
      "cell_type": "code",
      "metadata": {
        "id": "TeTD-ld0RQJ3"
      },
      "source": [
        "y_train=  tf.keras.utils.to_categorical(y_train,output_shape)\n",
        "y_val=tf.keras.utils.to_categorical(y_val, output_shape)\n",
        "y_test=tf.keras.utils.to_categorical(y_test,output_shape)\n",
        "\n",
        "  "
      ],
      "execution_count": 24,
      "outputs": []
    },
    {
      "cell_type": "code",
      "metadata": {
        "id": "b8KWzHHNVMkG"
      },
      "source": [
        "#class NetworkModel:\n",
        " #  def resnet(self, input_shape, output_shape):\n",
        "input=Input(shape=(input_shape[0],input_shape[1],input_shape[2]))\n",
        "l1_cnv2d_1=Conv2D(filters=32,kernel_size=(3,3), strides=(1,1), padding='same',  name='l1_cnv2d_1')(input)\n",
        "l1_relu_1=ReLU(name='l1_relu_1')(l1_cnv2d_1)\n",
        "l1_bn_1=BatchNormalization(name='l1_bn_1')(l1_relu_1)\n",
        "l1_cnv2d_2=Conv2D(filters=64,kernel_size=(3,3), strides=(1,1), padding='same', name='l1_cnv2d' )(l1_bn_1)\n",
        "l1_relu_2=ReLU(name='l1_relu_2')(l1_cnv2d_2)\n",
        "l1_out=BatchNormalization(name='l1_out')(l1_relu_2)\n",
        "\n",
        "\n",
        "l2_cnv2d_1=Conv2D(filters=64,kernel_size=(1,1), strides=(1,1), padding='same',  name='l2_cnv2d_1' )(l1_out)\n",
        "l2_relu_1=ReLU(name='l2_relu_1')(l2_cnv2d_1)\n",
        "l2_bn_1=BatchNormalization(name='l2_bn_1')(l2_relu_1)\n",
        " \n",
        "l2_add=Add()([l1_out,l2_bn_1])\n",
        "\n",
        "l2_cnv2d_2=Conv2D(filters=128,kernel_size=(1,1), strides=(1,1), padding='same',  name='l2_cnv2d_2' )(l2_add)\n",
        "l2_relu_2=ReLU(name='l2_relu_2')(l2_cnv2d_2)\n",
        "l2_out=BatchNormalization(name='l2_out')(l2_relu_2)\n",
        "\n",
        "l3_cnv2d_1=Conv2D(filters=128,kernel_size=(1,1), strides=(1,1), padding='same', name='l3_cnv2d_1' )(l2_out)\n",
        "l3_relu_1=ReLU(name='l3_relu_1')(l3_cnv2d_1)\n",
        "l3_bn_1=BatchNormalization(name='l3_bn_1')(l3_relu_1)\n",
        " \n",
        "l3_add=Add()([l2_out,l3_bn_1])\n",
        "\n",
        "l3_cnv2d_2=Conv2D(filters=128,kernel_size=(1,1), strides=(1,1), padding='same',  name='l3_cnv2d_2' )(l3_add)\n",
        "l3_relu_2=ReLU(name='l3_relu_2')(l3_cnv2d_2)\n",
        "l3_out=BatchNormalization(name='l3_out')(l3_relu_2)\n",
        "\n",
        "l4_avg_p= GlobalAveragePooling2D()(l3_out)\n",
        "\n",
        "x1=Dense(256, activation='relu')(l4_avg_p)\n",
        "x2=Dropout(0.2)(x1)\n",
        "x3=Dense(128, activation='relu')(x2)\n",
        "x4=Dropout(0.2)(x3)\n",
        "x5=Dense(128, activation='relu')(x4)\n",
        "x6=Dropout(0.2)(x5)\n",
        "x7=Dense(128, activation='relu')(x6)\n",
        "x8=Dropout(0.2)(x7)\n",
        "x9=Dense(128, activation='relu')(x8)\n",
        "output=Dense(output_shape, name='model_output', activation='softmax' )(x5)\n",
        "model_1=Model(input,output)\n",
        "\n",
        "\n",
        "\n",
        "\n",
        " \n",
        "\n",
        "\n"
      ],
      "execution_count": 27,
      "outputs": []
    },
    {
      "cell_type": "code",
      "metadata": {
        "colab": {
          "base_uri": "https://localhost:8080/"
        },
        "id": "jy6seEkrfa6h",
        "outputId": "740c34a2-4e38-4f89-b566-336f0e64fffe"
      },
      "source": [
        "model_1.summary()"
      ],
      "execution_count": 28,
      "outputs": [
        {
          "output_type": "stream",
          "text": [
            "Model: \"model_2\"\n",
            "__________________________________________________________________________________________________\n",
            "Layer (type)                    Output Shape         Param #     Connected to                     \n",
            "==================================================================================================\n",
            "Total params: 150,794\n",
            "Trainable params: 149,706\n",
            "Non-trainable params: 1,088\n",
            "__________________________________________________________________________________________________\n"
          ],
          "name": "stdout"
        }
      ]
    },
    {
      "cell_type": "code",
      "metadata": {
        "colab": {
          "base_uri": "https://localhost:8080/"
        },
        "id": "TKmtHnW6bDzh",
        "outputId": "ac3b7935-2f3c-4a34-b6c3-302e5c04a202"
      },
      "source": [
        "print(x_train.shape, x_test.shape, y_train.shape, y_test.shape, x_val.shape,y_val.shape)\n",
        "#print(input_train.shape,traget_train.shape)"
      ],
      "execution_count": 29,
      "outputs": [
        {
          "output_type": "stream",
          "text": [
            "(45000, 32, 32, 3) (10000, 32, 32, 3) (45000, 10) (10000, 10) (5000, 32, 32, 3) (5000, 10)\n"
          ],
          "name": "stdout"
        }
      ]
    },
    {
      "cell_type": "code",
      "metadata": {
        "colab": {
          "base_uri": "https://localhost:8080/"
        },
        "id": "KR-4B-flRC2T",
        "outputId": "d9674edd-9a9b-4c35-e0fb-37e4e20e8bc0"
      },
      "source": [
        "model_1.compile(loss=losses.categorical_crossentropy, optimizer=Adam(), metrics=['accuracy'])\n",
        "\n",
        "history=model_1.fit(x_train ,y_train , batch_size=50, epochs=3, verbose=verbosity, validation_data=(x_val,y_val))\n",
        "\n",
        "\n"
      ],
      "execution_count": 30,
      "outputs": [
        {
          "output_type": "stream",
          "text": [
            "Epoch 1/3\n",
            "900/900 [==============================] - 633s 689ms/step - loss: 2.0258 - accuracy: 0.2231 - val_loss: 1.6341 - val_accuracy: 0.3614\n",
            "Epoch 2/3\n",
            "900/900 [==============================] - 607s 674ms/step - loss: 1.6159 - accuracy: 0.3796 - val_loss: 1.4878 - val_accuracy: 0.4384\n",
            "Epoch 3/3\n",
            "900/900 [==============================] - 598s 665ms/step - loss: 1.4779 - accuracy: 0.4406 - val_loss: 1.4316 - val_accuracy: 0.4638\n"
          ],
          "name": "stdout"
        }
      ]
    },
    {
      "cell_type": "code",
      "metadata": {
        "colab": {
          "base_uri": "https://localhost:8080/",
          "height": 312
        },
        "id": "PfiDkv139BMT",
        "outputId": "eb9f1761-b7f8-4236-fac6-591b98fea0e5"
      },
      "source": [
        "score=model_1.evaluate(x_test,y_test,verbose=0)\n",
        "print(f'Test loss:{score[0]}/Test accuracy:{score[1]}')\n",
        "plt.plot(history.history['val_loss'])\n",
        "plt.title('Validation loss history')\n",
        "plt.ylabel('Loss value(%)')\n",
        "plt.xlabel('No epochs')\n",
        "plt.show()"
      ],
      "execution_count": 32,
      "outputs": [
        {
          "output_type": "stream",
          "text": [
            "Test loss:1.4384351968765259/Test accuracy:0.4661000072956085\n"
          ],
          "name": "stdout"
        },
        {
          "output_type": "display_data",
          "data": {
            "image/png": "[encoded data removed]",
            "text/plain": [
              "<Figure size 432x288 with 1 Axes>"
            ]
          },
          "metadata": {
            "tags": [],
            "needs_background": "light"
          }
        }
      ]
    },
    {
      "cell_type": "code",
      "metadata": {
        "colab": {
          "base_uri": "https://localhost:8080/",
          "height": 295
        },
        "id": "vIwM-o1Y9d6d",
        "outputId": "eaa9c0d2-794b-4513-db43-6dfdf288e33a"
      },
      "source": [
        "plt.plot(history.history['val_accuracy'])\n",
        "plt.title('Validation accuracy history')\n",
        "plt.ylabel('Accuracy value(%)')\n",
        "plt.xlabel('No epochs')\n",
        "plt.show()\n",
        "  "
      ],
      "execution_count": 33,
      "outputs": [
        {
          "output_type": "display_data",
          "data": {
            "image/png": "[encoded data removed]",
            "text/plain": [
              "<Figure size 432x288 with 1 Axes>"
            ]
          },
          "metadata": {
            "tags": [],
            "needs_background": "light"
          }
        }
      ]
    }
  ]
}